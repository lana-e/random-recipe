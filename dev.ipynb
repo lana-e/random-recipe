{
 "cells": [
  {
   "cell_type": "markdown",
   "id": "7565578c-f86b-4584-88f7-009720c2ed2c",
   "metadata": {},
   "source": [
    "# Random Recipe Dev Notebook\n",
    "This notebook is for development and testing of the functionalities of Random Recipe."
   ]
  },
  {
   "cell_type": "code",
   "execution_count": 1,
   "id": "8d8dac6d-6b4a-4125-a962-c39235690ab7",
   "metadata": {},
   "outputs": [],
   "source": [
    "import random\n",
    "import pandas as pd"
   ]
  },
  {
   "cell_type": "code",
   "execution_count": 2,
   "id": "4dd70131-c3d4-45cc-9215-11458e143b7a",
   "metadata": {},
   "outputs": [],
   "source": [
    "# initializing set of dishes\n",
    "dishes = set()"
   ]
  },
  {
   "cell_type": "code",
   "execution_count": 3,
   "id": "da930d66-3752-4f8c-9876-78b3d347e3ce",
   "metadata": {},
   "outputs": [],
   "source": [
    "# defining sample set of dishes\n",
    "sample_dishes = {\n",
    "    \"sinigang\", \"posole\", \"japanese curry\", \"spaghetti\",\n",
    "    \"steak alfredo\", \"lamb chops\", \"ramen\", \"gochujang chicken\",\n",
    "    \"steak\", \"bacon mac\", \"pancakes\", \"pork belly\",\n",
    "    \"kielbasa\", \"15 bean soup\", \"pesto\", \"chicken wingssssss\",\n",
    "}\n",
    "dishes = dishes.union(sample_dishes)"
   ]
  },
  {
   "cell_type": "code",
   "execution_count": 4,
   "id": "3a9e6b0c-69a6-4d0f-94de-449356581b8d",
   "metadata": {},
   "outputs": [
    {
     "name": "stdin",
     "output_type": "stream",
     "text": [
      "Type some dishes you know how to cook, separated by commas, and press Enter (e.g., \"sinigang, posole, japanese curry\"): sinigang, posole, japanese curry\n"
     ]
    }
   ],
   "source": [
    "# defining and adding a user-inputted dish\n",
    "new_dishes = input('Type some dishes you know how to cook, separated by commas, and press Enter (e.g., \"sinigang, posole, japanese curry\"):')\n",
    "new_dishes_list = new_dishes.split(\",\")\n",
    "new_dishes_list = [dish.strip().lower() for dish in new_dishes_list]\n",
    "dishes = dishes.union(new_dishes_list)"
   ]
  },
  {
   "cell_type": "code",
   "execution_count": 8,
   "id": "9e42aaf6-862a-45d3-ad8b-c8ce53e15968",
   "metadata": {},
   "outputs": [
    {
     "name": "stdin",
     "output_type": "stream",
     "text": [
      "How many meals are you looking to cook? 3\n"
     ]
    },
    {
     "name": "stdout",
     "output_type": "stream",
     "text": [
      "Here are some meal suggestions!\n",
      "1: pancakes\n",
      "2: pork belly\n",
      "3: kielbasa\n"
     ]
    }
   ],
   "source": [
    "# asking user for number of dishes to sample\n",
    "num_dishes = input(\"How many meals are you looking to cook?\")\n",
    "num_input = True\n",
    "while num_input:\n",
    "    try:\n",
    "        num_dishes = int(num_dishes)\n",
    "        num_input = False\n",
    "    except ValueError:\n",
    "        num_dishes = input(\"Please input a number:\")\n",
    "# printing random dishes to cook\n",
    "random_dishes = random.sample(tuple(dishes), k=num_dishes)\n",
    "print(f\"Here are some meal suggestions!\")\n",
    "for num, dish in enumerate(random_dishes):\n",
    "    print(f\"{num+1}: {dish}\")"
   ]
  },
  {
   "cell_type": "code",
   "execution_count": 21,
   "id": "3cf40fc6-17f3-416b-a78f-ddfa6a6c0f19",
   "metadata": {},
   "outputs": [
    {
     "data": {
      "text/html": [
       "<div>\n",
       "<style scoped>\n",
       "    .dataframe tbody tr th:only-of-type {\n",
       "        vertical-align: middle;\n",
       "    }\n",
       "\n",
       "    .dataframe tbody tr th {\n",
       "        vertical-align: top;\n",
       "    }\n",
       "\n",
       "    .dataframe thead th {\n",
       "        text-align: right;\n",
       "    }\n",
       "</style>\n",
       "<table border=\"1\" class=\"dataframe\">\n",
       "  <thead>\n",
       "    <tr style=\"text-align: right;\">\n",
       "      <th></th>\n",
       "      <th>dish_names</th>\n",
       "      <th>meats</th>\n",
       "      <th>veggies</th>\n",
       "      <th>expensive</th>\n",
       "    </tr>\n",
       "  </thead>\n",
       "  <tbody>\n",
       "    <tr>\n",
       "      <th>0</th>\n",
       "      <td>bacon mac</td>\n",
       "      <td>NaN</td>\n",
       "      <td>NaN</td>\n",
       "      <td>NaN</td>\n",
       "    </tr>\n",
       "    <tr>\n",
       "      <th>1</th>\n",
       "      <td>gochujang chicken</td>\n",
       "      <td>NaN</td>\n",
       "      <td>NaN</td>\n",
       "      <td>NaN</td>\n",
       "    </tr>\n",
       "    <tr>\n",
       "      <th>2</th>\n",
       "      <td>steak</td>\n",
       "      <td>NaN</td>\n",
       "      <td>NaN</td>\n",
       "      <td>NaN</td>\n",
       "    </tr>\n",
       "    <tr>\n",
       "      <th>3</th>\n",
       "      <td>japanese curry</td>\n",
       "      <td>NaN</td>\n",
       "      <td>NaN</td>\n",
       "      <td>NaN</td>\n",
       "    </tr>\n",
       "    <tr>\n",
       "      <th>4</th>\n",
       "      <td>steak alfredo</td>\n",
       "      <td>NaN</td>\n",
       "      <td>NaN</td>\n",
       "      <td>NaN</td>\n",
       "    </tr>\n",
       "    <tr>\n",
       "      <th>5</th>\n",
       "      <td>spaghetti</td>\n",
       "      <td>NaN</td>\n",
       "      <td>NaN</td>\n",
       "      <td>NaN</td>\n",
       "    </tr>\n",
       "    <tr>\n",
       "      <th>6</th>\n",
       "      <td>pancakes</td>\n",
       "      <td>NaN</td>\n",
       "      <td>NaN</td>\n",
       "      <td>NaN</td>\n",
       "    </tr>\n",
       "    <tr>\n",
       "      <th>7</th>\n",
       "      <td>kielbasa</td>\n",
       "      <td>NaN</td>\n",
       "      <td>NaN</td>\n",
       "      <td>NaN</td>\n",
       "    </tr>\n",
       "    <tr>\n",
       "      <th>8</th>\n",
       "      <td>lamb chops</td>\n",
       "      <td>NaN</td>\n",
       "      <td>NaN</td>\n",
       "      <td>NaN</td>\n",
       "    </tr>\n",
       "    <tr>\n",
       "      <th>9</th>\n",
       "      <td>posole</td>\n",
       "      <td>NaN</td>\n",
       "      <td>NaN</td>\n",
       "      <td>NaN</td>\n",
       "    </tr>\n",
       "    <tr>\n",
       "      <th>10</th>\n",
       "      <td>pork belly</td>\n",
       "      <td>NaN</td>\n",
       "      <td>NaN</td>\n",
       "      <td>NaN</td>\n",
       "    </tr>\n",
       "    <tr>\n",
       "      <th>11</th>\n",
       "      <td>sinigang</td>\n",
       "      <td>NaN</td>\n",
       "      <td>NaN</td>\n",
       "      <td>NaN</td>\n",
       "    </tr>\n",
       "    <tr>\n",
       "      <th>12</th>\n",
       "      <td>ramen</td>\n",
       "      <td>NaN</td>\n",
       "      <td>NaN</td>\n",
       "      <td>NaN</td>\n",
       "    </tr>\n",
       "  </tbody>\n",
       "</table>\n",
       "</div>"
      ],
      "text/plain": [
       "           dish_names meats veggies expensive\n",
       "0           bacon mac   NaN     NaN       NaN\n",
       "1   gochujang chicken   NaN     NaN       NaN\n",
       "2               steak   NaN     NaN       NaN\n",
       "3      japanese curry   NaN     NaN       NaN\n",
       "4       steak alfredo   NaN     NaN       NaN\n",
       "5           spaghetti   NaN     NaN       NaN\n",
       "6            pancakes   NaN     NaN       NaN\n",
       "7            kielbasa   NaN     NaN       NaN\n",
       "8          lamb chops   NaN     NaN       NaN\n",
       "9              posole   NaN     NaN       NaN\n",
       "10         pork belly   NaN     NaN       NaN\n",
       "11           sinigang   NaN     NaN       NaN\n",
       "12              ramen   NaN     NaN       NaN"
      ]
     },
     "execution_count": 21,
     "metadata": {},
     "output_type": "execute_result"
    }
   ],
   "source": [
    "dish_df = pd.DataFrame(columns=[\"dish_names\", \"meats\", \"veggies\", \"expensive\"])\n",
    "dish_df[\"dish_names\"] = tuple(dishes)\n",
    "dish_df"
   ]
  },
  {
   "cell_type": "code",
   "execution_count": null,
   "id": "288b4191-a982-4774-8992-ef74dd490fa8",
   "metadata": {},
   "outputs": [],
   "source": []
  }
 ],
 "metadata": {
  "kernelspec": {
   "display_name": "Python 3 (ipykernel)",
   "language": "python",
   "name": "python3"
  },
  "language_info": {
   "codemirror_mode": {
    "name": "ipython",
    "version": 3
   },
   "file_extension": ".py",
   "mimetype": "text/x-python",
   "name": "python",
   "nbconvert_exporter": "python",
   "pygments_lexer": "ipython3",
   "version": "3.10.9"
  }
 },
 "nbformat": 4,
 "nbformat_minor": 5
}
